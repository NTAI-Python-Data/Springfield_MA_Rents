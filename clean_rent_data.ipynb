{
 "cells": [
  {
   "cell_type": "markdown",
   "id": "b5e0d95a-f399-473b-8990-827616382f2b",
   "metadata": {
    "pycharm": {
     "name": "#%% md\n"
    }
   },
   "source": [
    "# Clean rent data #"
   ]
  },
  {
   "cell_type": "code",
   "execution_count": 1,
   "id": "e67936c7-249f-4671-92a7-198d0c5201c4",
   "metadata": {
    "pycharm": {
     "is_executing": true,
     "name": "#%%\n"
    }
   },
   "outputs": [],
   "source": [
    "import numpy as np\n",
    "import pandas as pd\n",
    "from pandas import DataFrame, Series\n",
    "pd.set_option('display.max_columns', None)"
   ]
  },
  {
   "cell_type": "code",
   "execution_count": 2,
   "id": "0e0b8e9a-ab46-4a69-b1bb-9cd9ce42b61b",
   "metadata": {
    "pycharm": {
     "name": "#%%\n"
    }
   },
   "outputs": [
    {
     "ename": "FileNotFoundError",
     "evalue": "[Errno 2] No such file or directory: 'rent_data_all.csv'",
     "output_type": "error",
     "traceback": [
      "\u001B[1;31m---------------------------------------------------------------------------\u001B[0m",
      "\u001B[1;31mFileNotFoundError\u001B[0m                         Traceback (most recent call last)",
      "Input \u001B[1;32mIn [2]\u001B[0m, in \u001B[0;36m<cell line: 1>\u001B[1;34m()\u001B[0m\n\u001B[1;32m----> 1\u001B[0m rent_all_columns \u001B[38;5;241m=\u001B[39m \u001B[43mpd\u001B[49m\u001B[38;5;241;43m.\u001B[39;49m\u001B[43mread_csv\u001B[49m\u001B[43m(\u001B[49m\u001B[38;5;124;43m'\u001B[39;49m\u001B[38;5;124;43mrent_data_all.csv\u001B[39;49m\u001B[38;5;124;43m'\u001B[39;49m\u001B[43m)\u001B[49m\n",
      "File \u001B[1;32mC:\\ProgramData\\Anaconda3\\lib\\site-packages\\pandas\\util\\_decorators.py:311\u001B[0m, in \u001B[0;36mdeprecate_nonkeyword_arguments.<locals>.decorate.<locals>.wrapper\u001B[1;34m(*args, **kwargs)\u001B[0m\n\u001B[0;32m    305\u001B[0m \u001B[38;5;28;01mif\u001B[39;00m \u001B[38;5;28mlen\u001B[39m(args) \u001B[38;5;241m>\u001B[39m num_allow_args:\n\u001B[0;32m    306\u001B[0m     warnings\u001B[38;5;241m.\u001B[39mwarn(\n\u001B[0;32m    307\u001B[0m         msg\u001B[38;5;241m.\u001B[39mformat(arguments\u001B[38;5;241m=\u001B[39marguments),\n\u001B[0;32m    308\u001B[0m         \u001B[38;5;167;01mFutureWarning\u001B[39;00m,\n\u001B[0;32m    309\u001B[0m         stacklevel\u001B[38;5;241m=\u001B[39mstacklevel,\n\u001B[0;32m    310\u001B[0m     )\n\u001B[1;32m--> 311\u001B[0m \u001B[38;5;28;01mreturn\u001B[39;00m func(\u001B[38;5;241m*\u001B[39margs, \u001B[38;5;241m*\u001B[39m\u001B[38;5;241m*\u001B[39mkwargs)\n",
      "File \u001B[1;32mC:\\ProgramData\\Anaconda3\\lib\\site-packages\\pandas\\io\\parsers\\readers.py:680\u001B[0m, in \u001B[0;36mread_csv\u001B[1;34m(filepath_or_buffer, sep, delimiter, header, names, index_col, usecols, squeeze, prefix, mangle_dupe_cols, dtype, engine, converters, true_values, false_values, skipinitialspace, skiprows, skipfooter, nrows, na_values, keep_default_na, na_filter, verbose, skip_blank_lines, parse_dates, infer_datetime_format, keep_date_col, date_parser, dayfirst, cache_dates, iterator, chunksize, compression, thousands, decimal, lineterminator, quotechar, quoting, doublequote, escapechar, comment, encoding, encoding_errors, dialect, error_bad_lines, warn_bad_lines, on_bad_lines, delim_whitespace, low_memory, memory_map, float_precision, storage_options)\u001B[0m\n\u001B[0;32m    665\u001B[0m kwds_defaults \u001B[38;5;241m=\u001B[39m _refine_defaults_read(\n\u001B[0;32m    666\u001B[0m     dialect,\n\u001B[0;32m    667\u001B[0m     delimiter,\n\u001B[1;32m   (...)\u001B[0m\n\u001B[0;32m    676\u001B[0m     defaults\u001B[38;5;241m=\u001B[39m{\u001B[38;5;124m\"\u001B[39m\u001B[38;5;124mdelimiter\u001B[39m\u001B[38;5;124m\"\u001B[39m: \u001B[38;5;124m\"\u001B[39m\u001B[38;5;124m,\u001B[39m\u001B[38;5;124m\"\u001B[39m},\n\u001B[0;32m    677\u001B[0m )\n\u001B[0;32m    678\u001B[0m kwds\u001B[38;5;241m.\u001B[39mupdate(kwds_defaults)\n\u001B[1;32m--> 680\u001B[0m \u001B[38;5;28;01mreturn\u001B[39;00m \u001B[43m_read\u001B[49m\u001B[43m(\u001B[49m\u001B[43mfilepath_or_buffer\u001B[49m\u001B[43m,\u001B[49m\u001B[43m \u001B[49m\u001B[43mkwds\u001B[49m\u001B[43m)\u001B[49m\n",
      "File \u001B[1;32mC:\\ProgramData\\Anaconda3\\lib\\site-packages\\pandas\\io\\parsers\\readers.py:575\u001B[0m, in \u001B[0;36m_read\u001B[1;34m(filepath_or_buffer, kwds)\u001B[0m\n\u001B[0;32m    572\u001B[0m _validate_names(kwds\u001B[38;5;241m.\u001B[39mget(\u001B[38;5;124m\"\u001B[39m\u001B[38;5;124mnames\u001B[39m\u001B[38;5;124m\"\u001B[39m, \u001B[38;5;28;01mNone\u001B[39;00m))\n\u001B[0;32m    574\u001B[0m \u001B[38;5;66;03m# Create the parser.\u001B[39;00m\n\u001B[1;32m--> 575\u001B[0m parser \u001B[38;5;241m=\u001B[39m TextFileReader(filepath_or_buffer, \u001B[38;5;241m*\u001B[39m\u001B[38;5;241m*\u001B[39mkwds)\n\u001B[0;32m    577\u001B[0m \u001B[38;5;28;01mif\u001B[39;00m chunksize \u001B[38;5;129;01mor\u001B[39;00m iterator:\n\u001B[0;32m    578\u001B[0m     \u001B[38;5;28;01mreturn\u001B[39;00m parser\n",
      "File \u001B[1;32mC:\\ProgramData\\Anaconda3\\lib\\site-packages\\pandas\\io\\parsers\\readers.py:933\u001B[0m, in \u001B[0;36mTextFileReader.__init__\u001B[1;34m(self, f, engine, **kwds)\u001B[0m\n\u001B[0;32m    930\u001B[0m     \u001B[38;5;28mself\u001B[39m\u001B[38;5;241m.\u001B[39moptions[\u001B[38;5;124m\"\u001B[39m\u001B[38;5;124mhas_index_names\u001B[39m\u001B[38;5;124m\"\u001B[39m] \u001B[38;5;241m=\u001B[39m kwds[\u001B[38;5;124m\"\u001B[39m\u001B[38;5;124mhas_index_names\u001B[39m\u001B[38;5;124m\"\u001B[39m]\n\u001B[0;32m    932\u001B[0m \u001B[38;5;28mself\u001B[39m\u001B[38;5;241m.\u001B[39mhandles: IOHandles \u001B[38;5;241m|\u001B[39m \u001B[38;5;28;01mNone\u001B[39;00m \u001B[38;5;241m=\u001B[39m \u001B[38;5;28;01mNone\u001B[39;00m\n\u001B[1;32m--> 933\u001B[0m \u001B[38;5;28mself\u001B[39m\u001B[38;5;241m.\u001B[39m_engine \u001B[38;5;241m=\u001B[39m \u001B[38;5;28;43mself\u001B[39;49m\u001B[38;5;241;43m.\u001B[39;49m\u001B[43m_make_engine\u001B[49m\u001B[43m(\u001B[49m\u001B[43mf\u001B[49m\u001B[43m,\u001B[49m\u001B[43m \u001B[49m\u001B[38;5;28;43mself\u001B[39;49m\u001B[38;5;241;43m.\u001B[39;49m\u001B[43mengine\u001B[49m\u001B[43m)\u001B[49m\n",
      "File \u001B[1;32mC:\\ProgramData\\Anaconda3\\lib\\site-packages\\pandas\\io\\parsers\\readers.py:1217\u001B[0m, in \u001B[0;36mTextFileReader._make_engine\u001B[1;34m(self, f, engine)\u001B[0m\n\u001B[0;32m   1213\u001B[0m     mode \u001B[38;5;241m=\u001B[39m \u001B[38;5;124m\"\u001B[39m\u001B[38;5;124mrb\u001B[39m\u001B[38;5;124m\"\u001B[39m\n\u001B[0;32m   1214\u001B[0m \u001B[38;5;66;03m# error: No overload variant of \"get_handle\" matches argument types\u001B[39;00m\n\u001B[0;32m   1215\u001B[0m \u001B[38;5;66;03m# \"Union[str, PathLike[str], ReadCsvBuffer[bytes], ReadCsvBuffer[str]]\"\u001B[39;00m\n\u001B[0;32m   1216\u001B[0m \u001B[38;5;66;03m# , \"str\", \"bool\", \"Any\", \"Any\", \"Any\", \"Any\", \"Any\"\u001B[39;00m\n\u001B[1;32m-> 1217\u001B[0m \u001B[38;5;28mself\u001B[39m\u001B[38;5;241m.\u001B[39mhandles \u001B[38;5;241m=\u001B[39m \u001B[43mget_handle\u001B[49m\u001B[43m(\u001B[49m\u001B[43m  \u001B[49m\u001B[38;5;66;43;03m# type: ignore[call-overload]\u001B[39;49;00m\n\u001B[0;32m   1218\u001B[0m \u001B[43m    \u001B[49m\u001B[43mf\u001B[49m\u001B[43m,\u001B[49m\n\u001B[0;32m   1219\u001B[0m \u001B[43m    \u001B[49m\u001B[43mmode\u001B[49m\u001B[43m,\u001B[49m\n\u001B[0;32m   1220\u001B[0m \u001B[43m    \u001B[49m\u001B[43mencoding\u001B[49m\u001B[38;5;241;43m=\u001B[39;49m\u001B[38;5;28;43mself\u001B[39;49m\u001B[38;5;241;43m.\u001B[39;49m\u001B[43moptions\u001B[49m\u001B[38;5;241;43m.\u001B[39;49m\u001B[43mget\u001B[49m\u001B[43m(\u001B[49m\u001B[38;5;124;43m\"\u001B[39;49m\u001B[38;5;124;43mencoding\u001B[39;49m\u001B[38;5;124;43m\"\u001B[39;49m\u001B[43m,\u001B[49m\u001B[43m \u001B[49m\u001B[38;5;28;43;01mNone\u001B[39;49;00m\u001B[43m)\u001B[49m\u001B[43m,\u001B[49m\n\u001B[0;32m   1221\u001B[0m \u001B[43m    \u001B[49m\u001B[43mcompression\u001B[49m\u001B[38;5;241;43m=\u001B[39;49m\u001B[38;5;28;43mself\u001B[39;49m\u001B[38;5;241;43m.\u001B[39;49m\u001B[43moptions\u001B[49m\u001B[38;5;241;43m.\u001B[39;49m\u001B[43mget\u001B[49m\u001B[43m(\u001B[49m\u001B[38;5;124;43m\"\u001B[39;49m\u001B[38;5;124;43mcompression\u001B[39;49m\u001B[38;5;124;43m\"\u001B[39;49m\u001B[43m,\u001B[49m\u001B[43m \u001B[49m\u001B[38;5;28;43;01mNone\u001B[39;49;00m\u001B[43m)\u001B[49m\u001B[43m,\u001B[49m\n\u001B[0;32m   1222\u001B[0m \u001B[43m    \u001B[49m\u001B[43mmemory_map\u001B[49m\u001B[38;5;241;43m=\u001B[39;49m\u001B[38;5;28;43mself\u001B[39;49m\u001B[38;5;241;43m.\u001B[39;49m\u001B[43moptions\u001B[49m\u001B[38;5;241;43m.\u001B[39;49m\u001B[43mget\u001B[49m\u001B[43m(\u001B[49m\u001B[38;5;124;43m\"\u001B[39;49m\u001B[38;5;124;43mmemory_map\u001B[39;49m\u001B[38;5;124;43m\"\u001B[39;49m\u001B[43m,\u001B[49m\u001B[43m \u001B[49m\u001B[38;5;28;43;01mFalse\u001B[39;49;00m\u001B[43m)\u001B[49m\u001B[43m,\u001B[49m\n\u001B[0;32m   1223\u001B[0m \u001B[43m    \u001B[49m\u001B[43mis_text\u001B[49m\u001B[38;5;241;43m=\u001B[39;49m\u001B[43mis_text\u001B[49m\u001B[43m,\u001B[49m\n\u001B[0;32m   1224\u001B[0m \u001B[43m    \u001B[49m\u001B[43merrors\u001B[49m\u001B[38;5;241;43m=\u001B[39;49m\u001B[38;5;28;43mself\u001B[39;49m\u001B[38;5;241;43m.\u001B[39;49m\u001B[43moptions\u001B[49m\u001B[38;5;241;43m.\u001B[39;49m\u001B[43mget\u001B[49m\u001B[43m(\u001B[49m\u001B[38;5;124;43m\"\u001B[39;49m\u001B[38;5;124;43mencoding_errors\u001B[39;49m\u001B[38;5;124;43m\"\u001B[39;49m\u001B[43m,\u001B[49m\u001B[43m \u001B[49m\u001B[38;5;124;43m\"\u001B[39;49m\u001B[38;5;124;43mstrict\u001B[39;49m\u001B[38;5;124;43m\"\u001B[39;49m\u001B[43m)\u001B[49m\u001B[43m,\u001B[49m\n\u001B[0;32m   1225\u001B[0m \u001B[43m    \u001B[49m\u001B[43mstorage_options\u001B[49m\u001B[38;5;241;43m=\u001B[39;49m\u001B[38;5;28;43mself\u001B[39;49m\u001B[38;5;241;43m.\u001B[39;49m\u001B[43moptions\u001B[49m\u001B[38;5;241;43m.\u001B[39;49m\u001B[43mget\u001B[49m\u001B[43m(\u001B[49m\u001B[38;5;124;43m\"\u001B[39;49m\u001B[38;5;124;43mstorage_options\u001B[39;49m\u001B[38;5;124;43m\"\u001B[39;49m\u001B[43m,\u001B[49m\u001B[43m \u001B[49m\u001B[38;5;28;43;01mNone\u001B[39;49;00m\u001B[43m)\u001B[49m\u001B[43m,\u001B[49m\n\u001B[0;32m   1226\u001B[0m \u001B[43m\u001B[49m\u001B[43m)\u001B[49m\n\u001B[0;32m   1227\u001B[0m \u001B[38;5;28;01massert\u001B[39;00m \u001B[38;5;28mself\u001B[39m\u001B[38;5;241m.\u001B[39mhandles \u001B[38;5;129;01mis\u001B[39;00m \u001B[38;5;129;01mnot\u001B[39;00m \u001B[38;5;28;01mNone\u001B[39;00m\n\u001B[0;32m   1228\u001B[0m f \u001B[38;5;241m=\u001B[39m \u001B[38;5;28mself\u001B[39m\u001B[38;5;241m.\u001B[39mhandles\u001B[38;5;241m.\u001B[39mhandle\n",
      "File \u001B[1;32mC:\\ProgramData\\Anaconda3\\lib\\site-packages\\pandas\\io\\common.py:789\u001B[0m, in \u001B[0;36mget_handle\u001B[1;34m(path_or_buf, mode, encoding, compression, memory_map, is_text, errors, storage_options)\u001B[0m\n\u001B[0;32m    784\u001B[0m \u001B[38;5;28;01melif\u001B[39;00m \u001B[38;5;28misinstance\u001B[39m(handle, \u001B[38;5;28mstr\u001B[39m):\n\u001B[0;32m    785\u001B[0m     \u001B[38;5;66;03m# Check whether the filename is to be opened in binary mode.\u001B[39;00m\n\u001B[0;32m    786\u001B[0m     \u001B[38;5;66;03m# Binary mode does not support 'encoding' and 'newline'.\u001B[39;00m\n\u001B[0;32m    787\u001B[0m     \u001B[38;5;28;01mif\u001B[39;00m ioargs\u001B[38;5;241m.\u001B[39mencoding \u001B[38;5;129;01mand\u001B[39;00m \u001B[38;5;124m\"\u001B[39m\u001B[38;5;124mb\u001B[39m\u001B[38;5;124m\"\u001B[39m \u001B[38;5;129;01mnot\u001B[39;00m \u001B[38;5;129;01min\u001B[39;00m ioargs\u001B[38;5;241m.\u001B[39mmode:\n\u001B[0;32m    788\u001B[0m         \u001B[38;5;66;03m# Encoding\u001B[39;00m\n\u001B[1;32m--> 789\u001B[0m         handle \u001B[38;5;241m=\u001B[39m \u001B[38;5;28;43mopen\u001B[39;49m\u001B[43m(\u001B[49m\n\u001B[0;32m    790\u001B[0m \u001B[43m            \u001B[49m\u001B[43mhandle\u001B[49m\u001B[43m,\u001B[49m\n\u001B[0;32m    791\u001B[0m \u001B[43m            \u001B[49m\u001B[43mioargs\u001B[49m\u001B[38;5;241;43m.\u001B[39;49m\u001B[43mmode\u001B[49m\u001B[43m,\u001B[49m\n\u001B[0;32m    792\u001B[0m \u001B[43m            \u001B[49m\u001B[43mencoding\u001B[49m\u001B[38;5;241;43m=\u001B[39;49m\u001B[43mioargs\u001B[49m\u001B[38;5;241;43m.\u001B[39;49m\u001B[43mencoding\u001B[49m\u001B[43m,\u001B[49m\n\u001B[0;32m    793\u001B[0m \u001B[43m            \u001B[49m\u001B[43merrors\u001B[49m\u001B[38;5;241;43m=\u001B[39;49m\u001B[43merrors\u001B[49m\u001B[43m,\u001B[49m\n\u001B[0;32m    794\u001B[0m \u001B[43m            \u001B[49m\u001B[43mnewline\u001B[49m\u001B[38;5;241;43m=\u001B[39;49m\u001B[38;5;124;43m\"\u001B[39;49m\u001B[38;5;124;43m\"\u001B[39;49m\u001B[43m,\u001B[49m\n\u001B[0;32m    795\u001B[0m \u001B[43m        \u001B[49m\u001B[43m)\u001B[49m\n\u001B[0;32m    796\u001B[0m     \u001B[38;5;28;01melse\u001B[39;00m:\n\u001B[0;32m    797\u001B[0m         \u001B[38;5;66;03m# Binary mode\u001B[39;00m\n\u001B[0;32m    798\u001B[0m         handle \u001B[38;5;241m=\u001B[39m \u001B[38;5;28mopen\u001B[39m(handle, ioargs\u001B[38;5;241m.\u001B[39mmode)\n",
      "\u001B[1;31mFileNotFoundError\u001B[0m: [Errno 2] No such file or directory: 'rent_data_all.csv'"
     ]
    }
   ],
   "source": [
    "rent_all_columns = pd.read_csv('rent_data_all.csv')"
   ]
  },
  {
   "cell_type": "code",
   "execution_count": 3,
   "id": "0a121406-3080-4dff-bb72-716185fcf84d",
   "metadata": {
    "pycharm": {
     "name": "#%%\n"
    }
   },
   "outputs": [
    {
     "data": {
      "text/html": [
       "<div>\n",
       "<style scoped>\n",
       "    .dataframe tbody tr th:only-of-type {\n",
       "        vertical-align: middle;\n",
       "    }\n",
       "\n",
       "    .dataframe tbody tr th {\n",
       "        vertical-align: top;\n",
       "    }\n",
       "\n",
       "    .dataframe thead th {\n",
       "        text-align: right;\n",
       "    }\n",
       "</style>\n",
       "<table border=\"1\" class=\"dataframe\">\n",
       "  <thead>\n",
       "    <tr style=\"text-align: right;\">\n",
       "      <th></th>\n",
       "      <th>Unnamed: 0</th>\n",
       "      <th>bathrooms</th>\n",
       "      <th>bedrooms</th>\n",
       "      <th>city</th>\n",
       "      <th>country</th>\n",
       "      <th>currency</th>\n",
       "      <th>daysOnZillow</th>\n",
       "      <th>homeStatus</th>\n",
       "      <th>homeStatusForHDP</th>\n",
       "      <th>homeType</th>\n",
       "      <th>isFeatured</th>\n",
       "      <th>isNonOwnerOccupied</th>\n",
       "      <th>isPreforeclosureAuction</th>\n",
       "      <th>isPremierBuilder</th>\n",
       "      <th>isRentalWithBasePrice</th>\n",
       "      <th>isUnmappable</th>\n",
       "      <th>isZillowOwned</th>\n",
       "      <th>latitude</th>\n",
       "      <th>livingArea</th>\n",
       "      <th>longitude</th>\n",
       "      <th>price</th>\n",
       "      <th>priceForHDP</th>\n",
       "      <th>shouldHighlight</th>\n",
       "      <th>state</th>\n",
       "      <th>streetAddress</th>\n",
       "      <th>unit</th>\n",
       "      <th>zipcode</th>\n",
       "      <th>zpid</th>\n",
       "      <th>lotAreaUnit</th>\n",
       "      <th>lotAreaValue</th>\n",
       "      <th>rentZestimate</th>\n",
       "      <th>taxAssessedValue</th>\n",
       "      <th>zestimate</th>\n",
       "      <th>datePriceChanged</th>\n",
       "      <th>priceChange</th>\n",
       "      <th>priceReduction</th>\n",
       "    </tr>\n",
       "  </thead>\n",
       "  <tbody>\n",
       "    <tr>\n",
       "      <th>0</th>\n",
       "      <td>0</td>\n",
       "      <td>1.0</td>\n",
       "      <td>1.0</td>\n",
       "      <td>Springfield</td>\n",
       "      <td>USA</td>\n",
       "      <td>USD</td>\n",
       "      <td>-1</td>\n",
       "      <td>FOR_RENT</td>\n",
       "      <td>FOR_RENT</td>\n",
       "      <td>APARTMENT</td>\n",
       "      <td>True</td>\n",
       "      <td>True</td>\n",
       "      <td>False</td>\n",
       "      <td>False</td>\n",
       "      <td>False</td>\n",
       "      <td>False</td>\n",
       "      <td>False</td>\n",
       "      <td>42.104000</td>\n",
       "      <td>617.0</td>\n",
       "      <td>-72.592384</td>\n",
       "      <td>1042.0</td>\n",
       "      <td>1042.0</td>\n",
       "      <td>False</td>\n",
       "      <td>MA</td>\n",
       "      <td>193 Worthington St #71DFDFD55</td>\n",
       "      <td># 71dfdfd55</td>\n",
       "      <td>1103</td>\n",
       "      <td>2066685043</td>\n",
       "      <td>NaN</td>\n",
       "      <td>NaN</td>\n",
       "      <td>NaN</td>\n",
       "      <td>NaN</td>\n",
       "      <td>NaN</td>\n",
       "      <td>NaN</td>\n",
       "      <td>NaN</td>\n",
       "      <td>NaN</td>\n",
       "    </tr>\n",
       "    <tr>\n",
       "      <th>1</th>\n",
       "      <td>1</td>\n",
       "      <td>1.0</td>\n",
       "      <td>1.0</td>\n",
       "      <td>Springfield</td>\n",
       "      <td>USA</td>\n",
       "      <td>USD</td>\n",
       "      <td>-1</td>\n",
       "      <td>FOR_RENT</td>\n",
       "      <td>FOR_RENT</td>\n",
       "      <td>SINGLE_FAMILY</td>\n",
       "      <td>False</td>\n",
       "      <td>True</td>\n",
       "      <td>False</td>\n",
       "      <td>False</td>\n",
       "      <td>False</td>\n",
       "      <td>False</td>\n",
       "      <td>False</td>\n",
       "      <td>42.095623</td>\n",
       "      <td>1550.0</td>\n",
       "      <td>-72.496870</td>\n",
       "      <td>750.0</td>\n",
       "      <td>750.0</td>\n",
       "      <td>False</td>\n",
       "      <td>MA</td>\n",
       "      <td>42 Catalina Dr</td>\n",
       "      <td>NaN</td>\n",
       "      <td>1128</td>\n",
       "      <td>56205755</td>\n",
       "      <td>acres</td>\n",
       "      <td>0.579982</td>\n",
       "      <td>2400.0</td>\n",
       "      <td>212200.0</td>\n",
       "      <td>304700.0</td>\n",
       "      <td>NaN</td>\n",
       "      <td>NaN</td>\n",
       "      <td>NaN</td>\n",
       "    </tr>\n",
       "  </tbody>\n",
       "</table>\n",
       "</div>"
      ],
      "text/plain": [
       "   Unnamed: 0  bathrooms  bedrooms         city country currency  \\\n",
       "0           0        1.0       1.0  Springfield     USA      USD   \n",
       "1           1        1.0       1.0  Springfield     USA      USD   \n",
       "\n",
       "   daysOnZillow homeStatus homeStatusForHDP       homeType  isFeatured  \\\n",
       "0            -1   FOR_RENT         FOR_RENT      APARTMENT        True   \n",
       "1            -1   FOR_RENT         FOR_RENT  SINGLE_FAMILY       False   \n",
       "\n",
       "   isNonOwnerOccupied  isPreforeclosureAuction  isPremierBuilder  \\\n",
       "0                True                    False             False   \n",
       "1                True                    False             False   \n",
       "\n",
       "   isRentalWithBasePrice  isUnmappable  isZillowOwned   latitude  livingArea  \\\n",
       "0                  False         False          False  42.104000       617.0   \n",
       "1                  False         False          False  42.095623      1550.0   \n",
       "\n",
       "   longitude   price  priceForHDP  shouldHighlight state  \\\n",
       "0 -72.592384  1042.0       1042.0            False    MA   \n",
       "1 -72.496870   750.0        750.0            False    MA   \n",
       "\n",
       "                   streetAddress         unit  zipcode        zpid  \\\n",
       "0  193 Worthington St #71DFDFD55  # 71dfdfd55     1103  2066685043   \n",
       "1                 42 Catalina Dr          NaN     1128    56205755   \n",
       "\n",
       "  lotAreaUnit  lotAreaValue  rentZestimate  taxAssessedValue  zestimate  \\\n",
       "0         NaN           NaN            NaN               NaN        NaN   \n",
       "1       acres      0.579982         2400.0          212200.0   304700.0   \n",
       "\n",
       "   datePriceChanged  priceChange priceReduction  \n",
       "0               NaN          NaN            NaN  \n",
       "1               NaN          NaN            NaN  "
      ]
     },
     "execution_count": 3,
     "metadata": {},
     "output_type": "execute_result"
    }
   ],
   "source": [
    "rent_all_columns.head(2)"
   ]
  },
  {
   "cell_type": "markdown",
   "id": "05d1387c-6a4b-405d-b8d3-f8e6421f0e43",
   "metadata": {
    "pycharm": {
     "name": "#%% md\n"
    }
   },
   "source": [
    "### Renaming columns ###"
   ]
  },
  {
   "cell_type": "code",
   "execution_count": 4,
   "id": "66dfd4af-9b5f-40c6-a53e-bbf3338783ad",
   "metadata": {
    "pycharm": {
     "name": "#%%\n"
    }
   },
   "outputs": [],
   "source": [
    "rent_all_columns=rent_all_columns.rename(columns={'livingArea':'area', 'price':'rent', 'streetAddress':'street_address'})\n"
   ]
  },
  {
   "cell_type": "markdown",
   "id": "c445108f-da90-4c1f-a41d-6f14a7c882d1",
   "metadata": {
    "pycharm": {
     "name": "#%% md\n"
    }
   },
   "source": [
    "### Adding a 0 prefix to all zipcodes ###"
   ]
  },
  {
   "cell_type": "code",
   "execution_count": 5,
   "id": "f7b46c48-32b8-4f0b-adc8-ea193a63c08f",
   "metadata": {
    "pycharm": {
     "name": "#%%\n"
    }
   },
   "outputs": [],
   "source": [
    "rent_all_columns['zipcode']=rent_all_columns['zipcode'].apply(lambda x: '{0:0>5}'.format(x))"
   ]
  },
  {
   "cell_type": "code",
   "execution_count": 6,
   "id": "57d248dd-f8b0-4e48-b4c5-b23d7387fda4",
   "metadata": {
    "pycharm": {
     "name": "#%%\n"
    }
   },
   "outputs": [
    {
     "data": {
      "text/html": [
       "<div>\n",
       "<style scoped>\n",
       "    .dataframe tbody tr th:only-of-type {\n",
       "        vertical-align: middle;\n",
       "    }\n",
       "\n",
       "    .dataframe tbody tr th {\n",
       "        vertical-align: top;\n",
       "    }\n",
       "\n",
       "    .dataframe thead th {\n",
       "        text-align: right;\n",
       "    }\n",
       "</style>\n",
       "<table border=\"1\" class=\"dataframe\">\n",
       "  <thead>\n",
       "    <tr style=\"text-align: right;\">\n",
       "      <th></th>\n",
       "      <th>Unnamed: 0</th>\n",
       "      <th>bathrooms</th>\n",
       "      <th>bedrooms</th>\n",
       "      <th>city</th>\n",
       "      <th>country</th>\n",
       "      <th>currency</th>\n",
       "      <th>daysOnZillow</th>\n",
       "      <th>homeStatus</th>\n",
       "      <th>homeStatusForHDP</th>\n",
       "      <th>homeType</th>\n",
       "      <th>isFeatured</th>\n",
       "      <th>isNonOwnerOccupied</th>\n",
       "      <th>isPreforeclosureAuction</th>\n",
       "      <th>isPremierBuilder</th>\n",
       "      <th>isRentalWithBasePrice</th>\n",
       "      <th>isUnmappable</th>\n",
       "      <th>isZillowOwned</th>\n",
       "      <th>latitude</th>\n",
       "      <th>area</th>\n",
       "      <th>longitude</th>\n",
       "      <th>rent</th>\n",
       "      <th>priceForHDP</th>\n",
       "      <th>shouldHighlight</th>\n",
       "      <th>state</th>\n",
       "      <th>street_address</th>\n",
       "      <th>unit</th>\n",
       "      <th>zipcode</th>\n",
       "      <th>zpid</th>\n",
       "      <th>lotAreaUnit</th>\n",
       "      <th>lotAreaValue</th>\n",
       "      <th>rentZestimate</th>\n",
       "      <th>taxAssessedValue</th>\n",
       "      <th>zestimate</th>\n",
       "      <th>datePriceChanged</th>\n",
       "      <th>priceChange</th>\n",
       "      <th>priceReduction</th>\n",
       "    </tr>\n",
       "  </thead>\n",
       "  <tbody>\n",
       "    <tr>\n",
       "      <th>0</th>\n",
       "      <td>0</td>\n",
       "      <td>1.0</td>\n",
       "      <td>1.0</td>\n",
       "      <td>Springfield</td>\n",
       "      <td>USA</td>\n",
       "      <td>USD</td>\n",
       "      <td>-1</td>\n",
       "      <td>FOR_RENT</td>\n",
       "      <td>FOR_RENT</td>\n",
       "      <td>APARTMENT</td>\n",
       "      <td>True</td>\n",
       "      <td>True</td>\n",
       "      <td>False</td>\n",
       "      <td>False</td>\n",
       "      <td>False</td>\n",
       "      <td>False</td>\n",
       "      <td>False</td>\n",
       "      <td>42.104</td>\n",
       "      <td>617.0</td>\n",
       "      <td>-72.592384</td>\n",
       "      <td>1042.0</td>\n",
       "      <td>1042.0</td>\n",
       "      <td>False</td>\n",
       "      <td>MA</td>\n",
       "      <td>193 Worthington St #71DFDFD55</td>\n",
       "      <td># 71dfdfd55</td>\n",
       "      <td>01103</td>\n",
       "      <td>2066685043</td>\n",
       "      <td>NaN</td>\n",
       "      <td>NaN</td>\n",
       "      <td>NaN</td>\n",
       "      <td>NaN</td>\n",
       "      <td>NaN</td>\n",
       "      <td>NaN</td>\n",
       "      <td>NaN</td>\n",
       "      <td>NaN</td>\n",
       "    </tr>\n",
       "  </tbody>\n",
       "</table>\n",
       "</div>"
      ],
      "text/plain": [
       "   Unnamed: 0  bathrooms  bedrooms         city country currency  \\\n",
       "0           0        1.0       1.0  Springfield     USA      USD   \n",
       "\n",
       "   daysOnZillow homeStatus homeStatusForHDP   homeType  isFeatured  \\\n",
       "0            -1   FOR_RENT         FOR_RENT  APARTMENT        True   \n",
       "\n",
       "   isNonOwnerOccupied  isPreforeclosureAuction  isPremierBuilder  \\\n",
       "0                True                    False             False   \n",
       "\n",
       "   isRentalWithBasePrice  isUnmappable  isZillowOwned  latitude   area  \\\n",
       "0                  False         False          False    42.104  617.0   \n",
       "\n",
       "   longitude    rent  priceForHDP  shouldHighlight state  \\\n",
       "0 -72.592384  1042.0       1042.0            False    MA   \n",
       "\n",
       "                  street_address         unit zipcode        zpid lotAreaUnit  \\\n",
       "0  193 Worthington St #71DFDFD55  # 71dfdfd55   01103  2066685043         NaN   \n",
       "\n",
       "   lotAreaValue  rentZestimate  taxAssessedValue  zestimate  datePriceChanged  \\\n",
       "0           NaN            NaN               NaN        NaN               NaN   \n",
       "\n",
       "   priceChange priceReduction  \n",
       "0          NaN            NaN  "
      ]
     },
     "execution_count": 6,
     "metadata": {},
     "output_type": "execute_result"
    }
   ],
   "source": [
    "rent_all_columns.head(1)"
   ]
  },
  {
   "cell_type": "markdown",
   "id": "5a20ce3a-8418-4174-879a-7942144b9281",
   "metadata": {
    "pycharm": {
     "name": "#%% md\n"
    }
   },
   "source": [
    "## List of Springfield, MA neighborhoods with zipcodes ##\n",
    "### May be able to make this into a dictionary and use 'clean swiss data' function in notebook 2 to assign neighborhood names to zip codes ###\n",
    "\n",
    "### *combined a few of the zip codes that had mulitple neighborhoods associated with them ###\n",
    " \n",
    "    Atwater Park, 01107\n",
    "    Downtown, 01103, 01105\n",
    "    East Forest Park, 01118\n",
    "    Forest Park, 01108\n",
    "    Indian Orchard, 01151\n",
    "    Liberty Heights & East Springfield, 01104\n",
    "    Maple Hill/Ridgewood, 01105\n",
    "    McKnight, 01109\n",
    "    Pine Point/Boston Road, 01109, 01119\n",
    "    Sixteen Acres, 01118, 01119, 01128, 01129\n"
   ]
  },
  {
   "cell_type": "code",
   "execution_count": 7,
   "id": "dce52dc5-3f0e-4df3-823c-3c544ec8d00f",
   "metadata": {
    "pycharm": {
     "name": "#%%\n"
    }
   },
   "outputs": [],
   "source": [
    "hood_dict = {'01107':'Atwater Park',\n",
    "             '01103':'Downtown',\n",
    "             '01118':'East Forest Park*',\n",
    "             '01108':'Forest Park',\n",
    "             '01151':'Indian Orchard',\n",
    "             '01104':'Liberty Heights & East Springfield;',\n",
    "             '01105':'Maple Hill/Ridgewood*',\n",
    "             '01109':'McKnight*',\n",
    "             '01119':'Pine Point/Boston Road*',\n",
    "             '01128':'Sixteen Acres',\n",
    "             '01129':'SixteenAcres',\n",
    "            }"
   ]
  },
  {
   "cell_type": "code",
   "execution_count": 8,
   "id": "503eb250-ee78-499a-bc4e-e56add092730",
   "metadata": {
    "pycharm": {
     "name": "#%%\n"
    }
   },
   "outputs": [
    {
     "data": {
      "text/html": [
       "<div>\n",
       "<style scoped>\n",
       "    .dataframe tbody tr th:only-of-type {\n",
       "        vertical-align: middle;\n",
       "    }\n",
       "\n",
       "    .dataframe tbody tr th {\n",
       "        vertical-align: top;\n",
       "    }\n",
       "\n",
       "    .dataframe thead th {\n",
       "        text-align: right;\n",
       "    }\n",
       "</style>\n",
       "<table border=\"1\" class=\"dataframe\">\n",
       "  <thead>\n",
       "    <tr style=\"text-align: right;\">\n",
       "      <th></th>\n",
       "      <th>Unnamed: 0</th>\n",
       "      <th>bathrooms</th>\n",
       "      <th>bedrooms</th>\n",
       "      <th>city</th>\n",
       "      <th>country</th>\n",
       "      <th>currency</th>\n",
       "      <th>daysOnZillow</th>\n",
       "      <th>homeStatus</th>\n",
       "      <th>homeStatusForHDP</th>\n",
       "      <th>homeType</th>\n",
       "      <th>isFeatured</th>\n",
       "      <th>isNonOwnerOccupied</th>\n",
       "      <th>isPreforeclosureAuction</th>\n",
       "      <th>isPremierBuilder</th>\n",
       "      <th>isRentalWithBasePrice</th>\n",
       "      <th>isUnmappable</th>\n",
       "      <th>isZillowOwned</th>\n",
       "      <th>latitude</th>\n",
       "      <th>area</th>\n",
       "      <th>longitude</th>\n",
       "      <th>rent</th>\n",
       "      <th>priceForHDP</th>\n",
       "      <th>shouldHighlight</th>\n",
       "      <th>state</th>\n",
       "      <th>street_address</th>\n",
       "      <th>unit</th>\n",
       "      <th>zipcode</th>\n",
       "      <th>zpid</th>\n",
       "      <th>lotAreaUnit</th>\n",
       "      <th>lotAreaValue</th>\n",
       "      <th>rentZestimate</th>\n",
       "      <th>taxAssessedValue</th>\n",
       "      <th>zestimate</th>\n",
       "      <th>datePriceChanged</th>\n",
       "      <th>priceChange</th>\n",
       "      <th>priceReduction</th>\n",
       "    </tr>\n",
       "  </thead>\n",
       "  <tbody>\n",
       "    <tr>\n",
       "      <th>0</th>\n",
       "      <td>0</td>\n",
       "      <td>1.0</td>\n",
       "      <td>1.0</td>\n",
       "      <td>Springfield</td>\n",
       "      <td>USA</td>\n",
       "      <td>USD</td>\n",
       "      <td>-1</td>\n",
       "      <td>FOR_RENT</td>\n",
       "      <td>FOR_RENT</td>\n",
       "      <td>APARTMENT</td>\n",
       "      <td>True</td>\n",
       "      <td>True</td>\n",
       "      <td>False</td>\n",
       "      <td>False</td>\n",
       "      <td>False</td>\n",
       "      <td>False</td>\n",
       "      <td>False</td>\n",
       "      <td>42.104</td>\n",
       "      <td>617.0</td>\n",
       "      <td>-72.592384</td>\n",
       "      <td>1042.0</td>\n",
       "      <td>1042.0</td>\n",
       "      <td>False</td>\n",
       "      <td>MA</td>\n",
       "      <td>193 Worthington St #71DFDFD55</td>\n",
       "      <td># 71dfdfd55</td>\n",
       "      <td>01103</td>\n",
       "      <td>2066685043</td>\n",
       "      <td>NaN</td>\n",
       "      <td>NaN</td>\n",
       "      <td>NaN</td>\n",
       "      <td>NaN</td>\n",
       "      <td>NaN</td>\n",
       "      <td>NaN</td>\n",
       "      <td>NaN</td>\n",
       "      <td>NaN</td>\n",
       "    </tr>\n",
       "  </tbody>\n",
       "</table>\n",
       "</div>"
      ],
      "text/plain": [
       "   Unnamed: 0  bathrooms  bedrooms         city country currency  \\\n",
       "0           0        1.0       1.0  Springfield     USA      USD   \n",
       "\n",
       "   daysOnZillow homeStatus homeStatusForHDP   homeType  isFeatured  \\\n",
       "0            -1   FOR_RENT         FOR_RENT  APARTMENT        True   \n",
       "\n",
       "   isNonOwnerOccupied  isPreforeclosureAuction  isPremierBuilder  \\\n",
       "0                True                    False             False   \n",
       "\n",
       "   isRentalWithBasePrice  isUnmappable  isZillowOwned  latitude   area  \\\n",
       "0                  False         False          False    42.104  617.0   \n",
       "\n",
       "   longitude    rent  priceForHDP  shouldHighlight state  \\\n",
       "0 -72.592384  1042.0       1042.0            False    MA   \n",
       "\n",
       "                  street_address         unit zipcode        zpid lotAreaUnit  \\\n",
       "0  193 Worthington St #71DFDFD55  # 71dfdfd55   01103  2066685043         NaN   \n",
       "\n",
       "   lotAreaValue  rentZestimate  taxAssessedValue  zestimate  datePriceChanged  \\\n",
       "0           NaN            NaN               NaN        NaN               NaN   \n",
       "\n",
       "   priceChange priceReduction  \n",
       "0          NaN            NaN  "
      ]
     },
     "execution_count": 8,
     "metadata": {},
     "output_type": "execute_result"
    }
   ],
   "source": [
    "def create_new_features(df):\n",
    "    # Add rent categories\n",
    "    rent_all_columns['sqft_cost'] =  rent_all_columns[\"rent\"] /  rent_all_columns[\"area\"]\n",
    "    descr_rents =  rent_all_columns['sqft_cost'].describe()\n",
    "\n",
    "    quantiles =  rent_all_columns['sqft_cost'].quantile(q=[0.15, 0.5, 0.85])\n",
    "    cheap = quantiles[0.15]\n",
    "    average = quantiles[0.5]\n",
    "    expensive = quantiles[0.85]\n",
    "\n",
    "    rent_all_columns[\"cost_per_square_feet\"] = np.where(\n",
    "         rent_all_columns['sqft_cost'] < cheap,\n",
    "        0,\n",
    "        np.where(\n",
    "            ( rent_all_columns['sqft_cost'] >= cheap) & ( rent_all_columns['sqft_cost'] < average),\n",
    "            1,\n",
    "            np.where(\n",
    "                ( rent_all_columns['sqft_cost'] >= average) & ( rent_all_columns['sqft_cost'] < expensive),\n",
    "                2,\n",
    "                3,\n",
    "            ),\n",
    "        ),\n",
    "    )\n",
    "    rent_all_columns[\"hover_strings_scatter\"] = [\n",
    "    f\"Address: {street}, {place},<br>Rooms: {rooms}, <br>Rent: USD {rent}\"\n",
    "    for street, place, rooms, rent in zip(\n",
    "        rent_all_columns[\"street_address\"],\n",
    "        rent_all_columns[\"city\"],\n",
    "        rent_all_columns[\"bedrooms\"],\n",
    "        rent_all_columns[\"rent\"],\n",
    "        )\n",
    "    ]\n",
    "    return  rent_all_columns\n",
    "rent_all_columns.head(1)"
   ]
  },
  {
   "cell_type": "markdown",
   "id": "4ae55970-85cb-498a-9262-9cff1a41d5fb",
   "metadata": {
    "pycharm": {
     "name": "#%% md\n"
    }
   },
   "source": [
    "## Adding 'sqft_cost' column ##"
   ]
  },
  {
   "cell_type": "code",
   "execution_count": null,
   "id": "0fa61458-81a2-4e7b-b099-6278d27d694c",
   "metadata": {
    "pycharm": {
     "name": "#%%\n"
    }
   },
   "outputs": [],
   "source": [
    "rent_all_columns['sqft_cost'] =  rent_all_columns[\"rent\"] /  rent_all_columns[\"area\"]\n",
    "descr_rents =  rent_all_columns['sqft_cost'].describe()\n",
    "rent_all_columns.head(1)"
   ]
  },
  {
   "cell_type": "markdown",
   "id": "28b1321d-bc7f-4ec0-8219-9a2e3e5b1404",
   "metadata": {
    "pycharm": {
     "name": "#%% md\n"
    }
   },
   "source": [
    "## Adding 'hover_strings_scatter' column ##"
   ]
  },
  {
   "cell_type": "code",
   "execution_count": null,
   "id": "d34a51e3-0a86-4ca2-bb1d-4c28ea5170b7",
   "metadata": {
    "pycharm": {
     "name": "#%%\n"
    }
   },
   "outputs": [],
   "source": [
    "rent_all_columns[\"hover_strings_scatter\"] = [\n",
    "    f\"Address: {street}, {place},<br>Rooms: {rooms}, <br>Rent: USD {rent}\"\n",
    "    for street, place, rooms, rent in zip(\n",
    "        rent_all_columns[\"street_address\"],\n",
    "        rent_all_columns[\"city\"],\n",
    "        rent_all_columns[\"bedrooms\"],\n",
    "        rent_all_columns[\"rent\"],\n",
    "        )\n",
    "    ]\n",
    "rent_all_columns.head(1)"
   ]
  },
  {
   "cell_type": "markdown",
   "id": "43a31bbd-f0f8-4a68-83b8-32c28e5d6425",
   "metadata": {
    "pycharm": {
     "name": "#%% md\n"
    }
   },
   "source": [
    "## Adding 'quantile calculations' ##"
   ]
  },
  {
   "cell_type": "code",
   "execution_count": null,
   "id": "5dbe3543-7af3-436f-993f-45dcca29fdfc",
   "metadata": {
    "pycharm": {
     "name": "#%%\n"
    }
   },
   "outputs": [],
   "source": [
    "quantiles =  rent_all_columns['sqft_cost'].quantile(q=[0.15, 0.5, 0.85])\n",
    "cheap = quantiles[0.15]\n",
    "average = quantiles[0.5]\n",
    "expensive = quantiles[0.85]\n",
    "\n",
    "rent_all_columns[\"cost_per_square_feet\"] = np.where(rent_all_columns['sqft_cost'] < cheap, 0,\n",
    "        np.where(( rent_all_columns['sqft_cost'] >= cheap) & ( rent_all_columns['sqft_cost'] < average), 1,\n",
    "        np.where(( rent_all_columns['sqft_cost'] >= average) & ( rent_all_columns['sqft_cost'] < expensive), 2, 3,\n",
    "            ),\n",
    "        ),\n",
    "    )\n",
    "rent_all_columns.head(1)"
   ]
  },
  {
   "cell_type": "markdown",
   "id": "37862cef-2b88-4c63-8db4-6c16eb41a32d",
   "metadata": {
    "pycharm": {
     "name": "#%% md\n"
    }
   },
   "source": [
    "## Getting only wanted columns ##"
   ]
  },
  {
   "cell_type": "code",
   "execution_count": null,
   "id": "14b8fc4c-70ca-4ca8-aee2-3661e772064d",
   "metadata": {
    "pycharm": {
     "name": "#%%\n"
    }
   },
   "outputs": [],
   "source": [
    "rent_data = rent_all_columns[['bedrooms', 'bathrooms', 'area', 'rent', 'street_address', 'zipcode', 'city', 'sqft_cost','hover_strings_scatter','cost_per_square_feet']]\n",
    "rent_data.head(1)"
   ]
  },
  {
   "cell_type": "markdown",
   "id": "55ecc864-271f-4610-aa0e-30058f08cc11",
   "metadata": {
    "pycharm": {
     "name": "#%% md\n"
    }
   },
   "source": [
    "### need to write a fucntion that appends neighborhood names to rows with matching zipcodes and create a new columns called 'neighborhoods' ###"
   ]
  },
  {
   "cell_type": "markdown",
   "id": "7234dbec-85df-432c-8d1b-2aad141d29cc",
   "metadata": {
    "pycharm": {
     "name": "#%% md\n"
    },
    "tags": []
   },
   "source": [
    "### Adding a hover string column to the data frame ###\n",
    "\n",
    "## *Need to add remaing 'create new features' function from notebook 2* ##"
   ]
  },
  {
   "cell_type": "markdown",
   "id": "2aa47ef6-d993-490e-ac8f-a0bad8ab19a9",
   "metadata": {
    "pycharm": {
     "name": "#%% md\n"
    }
   },
   "source": [
    "def create_new_features(df):\n",
    "    # Add rent categories\n",
    "    rent_all_columns['sqft_cost'] =  rent_all_columns[\"rent\"] /  rent_all_columns[\"area\"]\n",
    "    descr_rents =  rent_all_columns['sqft_cost'].describe()\n",
    "\n",
    "    quantiles =  rent_all_columns['sqft_cost'].quantile(q=[0.15, 0.5, 0.85])\n",
    "    cheap = quantiles[0.15]\n",
    "    average = quantiles[0.5]\n",
    "    expensive = quantiles[0.85]\n",
    "\n",
    "    rent_all_columns[\"cost_per_square_feet\"] = np.where(\n",
    "         rent_all_columns['sqft_cost'] < cheap,\n",
    "        0,\n",
    "        np.where(\n",
    "            ( rent_all_columns['sqft_cost'] >= cheap) & ( rent_all_columns['sqft_cost'] < average),\n",
    "            1,\n",
    "            np.where(\n",
    "                ( rent_all_columns['sqft_cost'] >= average) & ( rent_all_columns['sqft_cost'] < expensive),\n",
    "                2,\n",
    "                3,\n",
    "            ),\n",
    "        ),\n",
    "    )\n",
    "    rent_all_columns[\"hover_strings_scatter\"] = [\n",
    "    f\"Address: {street}, {place},<br>Rooms: {rooms}, <br>Rent: USD {rent}\"\n",
    "    for street, place, rooms, rent in zip(\n",
    "        rent_all_columns[\"street_address\"],\n",
    "        rent_all_columns[\"city\"],\n",
    "        rent_all_columns[\"bedrooms\"],\n",
    "        rent_all_columns[\"rent\"],\n",
    "        )\n",
    "    ]\n",
    "    return  rent_all_columns"
   ]
  },
  {
   "cell_type": "code",
   "execution_count": null,
   "id": "b923af9d-a528-44e1-ac89-01f964963a72",
   "metadata": {
    "pycharm": {
     "name": "#%%\n"
    }
   },
   "outputs": [],
   "source": []
  },
  {
   "cell_type": "code",
   "execution_count": null,
   "id": "6612e82e-0212-467b-b17f-5711df90682b",
   "metadata": {
    "pycharm": {
     "name": "#%%\n"
    }
   },
   "outputs": [],
   "source": []
  },
  {
   "cell_type": "markdown",
   "id": "6717ed96-19c8-404d-ab88-a5a6e557fe64",
   "metadata": {
    "pycharm": {
     "name": "#%% md\n"
    }
   },
   "source": [
    "## ***Need to re-add 'area' to function once NaN values are taken care of*** ##"
   ]
  },
  {
   "cell_type": "code",
   "execution_count": null,
   "id": "1397e47b-2b51-4d8a-8846-f0f9d51f98cb",
   "metadata": {
    "pycharm": {
     "name": "#%%\n"
    }
   },
   "outputs": [],
   "source": [
    " # Hover strings\n",
    "#rent_all_columns[\"hover_strings_scatter\"] = [\n",
    "#    f\"Address: {street}, {place},<br>Rooms: {rooms}, Floor Space: {round(size)}m²,<br>Rent: USD {rent}\"\n",
    "#    for street, place, rooms, size, rent in zip(\n",
    "#        rent_all_columns[\"street_address\"],\n",
    "#        rent_all_columns[\"city\"],\n",
    "#        rent_all_columns[\"bedrooms\"],\n",
    "#        rent_all_columns[\"area\"],\n",
    "#        rent_all_columns[\"rent\"],\n",
    "#    )\n",
    "#]\n",
    "\n",
    "rent_all_columns[\"hover_strings_scatter\"] = [\n",
    "    f\"Address: {street}, {place},<br>Rooms: {rooms}, <br>Rent: USD {rent}\"\n",
    "    for street, place, rooms, rent in zip(\n",
    "        rent_all_columns[\"street_address\"],\n",
    "        rent_all_columns[\"city\"],\n",
    "        rent_all_columns[\"bedrooms\"],\n",
    "        rent_all_columns[\"rent\"],\n",
    "    )\n",
    "]"
   ]
  },
  {
   "cell_type": "code",
   "execution_count": null,
   "id": "097cc74d-4fcd-4d8e-a261-00d366a74860",
   "metadata": {
    "pycharm": {
     "name": "#%%\n"
    }
   },
   "outputs": [],
   "source": []
  },
  {
   "cell_type": "code",
   "execution_count": null,
   "id": "f7100c7e-7a72-46b0-811c-18b72cdf46f9",
   "metadata": {
    "pycharm": {
     "name": "#%%\n"
    }
   },
   "outputs": [],
   "source": []
  },
  {
   "cell_type": "markdown",
   "id": "17a250b7-ee28-4233-bb42-0e354d9643d7",
   "metadata": {
    "pycharm": {
     "name": "#%% md\n"
    }
   },
   "source": [
    "# Rent Data all clean and making csv file and getting other information #"
   ]
  },
  {
   "cell_type": "code",
   "execution_count": null,
   "id": "71ed0564-5140-4067-a4fe-4c1c3b9ce983",
   "metadata": {
    "pycharm": {
     "name": "#%%\n"
    }
   },
   "outputs": [],
   "source": [
    "rent_data.head(2)"
   ]
  },
  {
   "cell_type": "code",
   "execution_count": null,
   "id": "3aa361f0-b585-40a5-a80b-f2ce083dda1c",
   "metadata": {
    "pycharm": {
     "name": "#%%\n"
    }
   },
   "outputs": [],
   "source": [
    "rent_data.to_csv('rent_data_clean_spfld.csv', encoding='utf-8')"
   ]
  },
  {
   "cell_type": "code",
   "execution_count": null,
   "id": "18e5fbdb-f1c0-427e-a3a8-1aebcd9d2eca",
   "metadata": {
    "pycharm": {
     "name": "#%%\n"
    }
   },
   "outputs": [],
   "source": [
    "rent_data.info()"
   ]
  },
  {
   "cell_type": "code",
   "execution_count": null,
   "id": "436f75bd-9cda-4e67-88f0-abc5432b7821",
   "metadata": {
    "pycharm": {
     "name": "#%%\n"
    }
   },
   "outputs": [],
   "source": [
    "rent_data.describe()"
   ]
  },
  {
   "cell_type": "code",
   "execution_count": null,
   "id": "e3561f58-0bf0-4928-a986-de9c4a5149e5",
   "metadata": {
    "pycharm": {
     "name": "#%%\n"
    }
   },
   "outputs": [],
   "source": [
    "rent_data.value_counts()"
   ]
  },
  {
   "cell_type": "code",
   "execution_count": null,
   "id": "fef512b4-e81b-45a5-9e2f-992d93ebab99",
   "metadata": {
    "pycharm": {
     "name": "#%%\n"
    }
   },
   "outputs": [],
   "source": []
  }
 ],
 "metadata": {
  "kernelspec": {
   "display_name": "Python 3 (ipykernel)",
   "language": "python",
   "name": "python3"
  },
  "language_info": {
   "codemirror_mode": {
    "name": "ipython",
    "version": 3
   },
   "file_extension": ".py",
   "mimetype": "text/x-python",
   "name": "python",
   "nbconvert_exporter": "python",
   "pygments_lexer": "ipython3",
   "version": "3.9.12"
  }
 },
 "nbformat": 4,
 "nbformat_minor": 5
}