{
 "cells": [
  {
   "cell_type": "markdown",
   "id": "44121a52-c087-4b9a-bdcb-a37b5cf40148",
   "metadata": {},
   "source": [
    "<a id='Q0'></a>\n",
    "<center> <h1> Notebook 2: Advanced Visualization </h1> </center>\n",
    "<p style=\"margin-bottom:1cm;\"></p>\n",
    "<center><strong>Angela Niederberger, 2022</strong></center>\n",
    "<p style=\"margin-bottom:1cm;\"></p>\n",
    "\n",
    "<div style=\"background:#EEEDF5;border-top:0.1cm solid #EF475B;border-bottom:0.1cm solid #EF475B;\">\n",
    "    <div style=\"margin-left: 0.5cm;margin-top: 0.5cm;margin-bottom: 0.5cm;color:#303030\">\n",
    "        <p><strong>Goal:</strong> Short description of the aim of the notebook</p>\n",
    "        <strong> Outline:</strong>\n",
    "        <a id='P0' name=\"P0\"></a>\n",
    "        <ol>\n",
    "            <li> <a style=\"color:#303030\" href='#I'>Introduction </a> </li>\n",
    "            <li> <a style=\"color:#303030\" href='#SU'>Set up</a></li>\n",
    "            <li> <a style=\"color:#303030\" href='#P1'>Exploratory Data Analysis</a></li>\n",
    "            <li> <a style=\"color:#303030\" href='#P2'>Visualization</a></li>\n",
    "            <li> <a style=\"color:#303030\" href='#P3'>Part 3</a></li>\n",
    "            <li> <a style=\"color:#303030\" href='#CL'>Conclusion</a></li>\n",
    "            <li> <a style=\"color:#303030\" href='#AP'>Appendix</a></li>\n",
    "        </ol>\n",
    "        <strong>Keywords:</strong> data cleaning, NLP, ... list of keywords.\n",
    "    </div>\n",
    "</div>\n",
    "</nav>"
   ]
  },
  {
   "cell_type": "markdown",
   "id": "3b888b7d-daaa-42f3-bf20-8b34f2032708",
   "metadata": {},
   "source": [
    "<a id='I' name=\"I\"></a>\n",
    "## [Introduction](#P0)"
   ]
  },
  {
   "cell_type": "markdown",
   "id": "b48c8fbb-3714-4baf-93b8-ea539f476ded",
   "metadata": {},
   "source": [
    "Here you could write an introduction to the topics. Everything that is written here will appear in the live coding template notebook"
   ]
  },
  {
   "cell_type": "markdown",
   "id": "e986ed40-d5ad-4d4e-8039-a66346f7f9bd",
   "metadata": {},
   "source": [
    "<a id='SU' name=\"SU\"></a>\n",
    "## [Set up](#P0)"
   ]
  },
  {
   "cell_type": "markdown",
   "id": "4a290be9-7423-49dd-83d5-011aa101841a",
   "metadata": {},
   "source": [
    "### Packages"
   ]
  },
  {
   "cell_type": "code",
   "execution_count": 1,
   "id": "c1b2595c-4350-411c-af49-350ca1a196f8",
   "metadata": {},
   "outputs": [],
   "source": [
    "import numpy as np\n",
    "import pandas as pd\n",
    "import matplotlib.pyplot as plt\n",
    "import seaborn as sns\n",
    "import plotly.graph_objects as go\n",
    "import plotly.express as px\n",
    "from plotly.subplots import make_subplots\n",
    "import os\n",
    "import json"
   ]
  },
  {
   "cell_type": "markdown",
   "id": "0875f827-3f69-45ca-a7b6-f60afe2df07a",
   "metadata": {
    "tags": []
   },
   "source": [
    "### Magic Commands"
   ]
  },
  {
   "cell_type": "code",
   "execution_count": 2,
   "id": "dfe5d540-623b-4221-81fb-fa7605d01c0c",
   "metadata": {},
   "outputs": [],
   "source": [
    "# %load_ext lab_black\n",
    "\n",
    "\n",
    "%matplotlib inline\n",
    "%config Completer.use_jedi = False"
   ]
  },
  {
   "cell_type": "markdown",
   "id": "935e1bf6-1077-47cf-9568-90c251703bd6",
   "metadata": {},
   "source": [
    "### Global Parameters Setting"
   ]
  },
  {
   "cell_type": "code",
   "execution_count": null,
   "id": "127313b5-3286-4b4f-a4d3-a4535313e2b9",
   "metadata": {},
   "outputs": [],
   "source": [
    "plt.style.use(\"seaborn\")\n",
    "sns.set_theme(style=\"ticks\")"
   ]
  },
  {
   "cell_type": "markdown",
   "id": "717d3d83-391f-434a-91fd-60ad9eec01a9",
   "metadata": {},
   "source": [
    "### User-Dependent Variables"
   ]
  },
  {
   "cell_type": "markdown",
   "id": "c3adef86-f018-4fb5-acd4-9a1ea60209ce",
   "metadata": {},
   "source": [
    "## ***Need to make token hidden*** ##"
   ]
  },
  {
   "cell_type": "code",
   "execution_count": 3,
   "id": "5eeda66a-4d8f-46c2-9c53-7e0c273f9ed1",
   "metadata": {},
   "outputs": [
    {
     "data": {
      "text/plain": [
       "'C:\\\\Users\\\\JJones\\\\Desktop\\\\00_PythonWIP\\\\swiss_rents-master\\\\notebooks'"
      ]
     },
     "execution_count": 3,
     "metadata": {},
     "output_type": "execute_result"
    }
   ],
   "source": [
    "raw_data = \"../data/raw\"\n",
    "proc_data = \"../data/processed\"\n",
    "mapbox_access_token = \"pk.eyJ1IjoiampvbmVzMSIsImEiOiJjbDdzaG9xcTkwODM0M3BtbXp2OW5oa29mIn0.d1NUWF43CRbDcCZ4B-V7UA\"\n",
    "quali_colorscale = px.colors.qualitative.Bold\n",
    "\n",
    "os.getcwd()"
   ]
  },
  {
   "cell_type": "markdown",
   "id": "a0adae26-b028-4434-932c-928b576f28e9",
   "metadata": {},
   "source": [
    "### Helper Functions\n",
    "\n",
    "Some helpful functions either from the previous notebook or from elsewhere."
   ]
  },
  {
   "cell_type": "code",
   "execution_count": 4,
   "id": "12b16b51-7592-44da-9eca-4744a37f694b",
   "metadata": {},
   "outputs": [],
   "source": [
    "def clean_swiss_rents_data(df):\n",
    "    # Turn PLZ_Ort into two independent columns\n",
    "    df[\"Ort\"] = df[\"PLZ_Ort\"].str.split(\" \", 1).str[1]\n",
    "    df[\"PLZ\"] = df[\"PLZ_Ort\"].str.split(\" \", 1).str[0].astype(\"int\")\n",
    "\n",
    "    # Remove all the unnecessary commas in KT\n",
    "    ###df[\"KT,\"] = df[\"KT,\"].str.replace(\",\", \"\")\n",
    "    ###df.rename(columns={\"KT,\": \"KT\"}, inplace=True)\n",
    "\n",
    "    # Turn KT into actual Canton name\n",
    "    cantons_dict = {\n",
    "        \"TG\": \"Thurgau\",\n",
    "        \"GR\": \"Graubünden\",\n",
    "        \"LU\": \"Luzern\",\n",
    "        \"BE\": \"Bern\",\n",
    "        \"VS\": \"Valais\",\n",
    "        \"BL\": \"Basel-Landschaft\",\n",
    "        \"SO\": \"Solothurn\",\n",
    "        \"VD\": \"Vaud\",\n",
    "        \"SH\": \"Schaffhausen\",\n",
    "        \"ZH\": \"Zürich\",\n",
    "        \"AG\": \"Aargau\",\n",
    "        \"UR\": \"Uri\",\n",
    "        \"NE\": \"Neuchâtel\",\n",
    "        \"TI\": \"Ticino\",\n",
    "        \"SG\": \"St. Gallen\",\n",
    "        \"GE\": \"Genève\",\n",
    "        \"GL\": \"Glarus\",\n",
    "        \"JU\": \"Jura\",\n",
    "        \"ZG\": \"Zug\",\n",
    "        \"OW\": \"Obwalden\",\n",
    "        \"FR\": \"Fribourg\",\n",
    "        \"SZ\": \"Schwyz\",\n",
    "        \"AR\": \"Appenzell Ausserrhoden\",\n",
    "        \"AI\": \"Appenzell Innerrhoden\",\n",
    "        \"NW\": \"Nidwalden\",\n",
    "        \"BS\": \"Basel-Stadt\",\n",
    "    }\n",
    "    df[\"Kanton\"] = df[\"KT\"].map(cantons_dict)\n",
    "\n",
    "    return df"
   ]
  },
  {
   "cell_type": "code",
   "execution_count": 5,
   "id": "ea2d1a3b-d835-456d-b287-dd970fb9179b",
   "metadata": {},
   "outputs": [],
   "source": [
    "def create_new_features(df):\n",
    "    # Add rent categories\n",
    "    df[\"sqm_preis\"] = df[\"Mietpreis_Brutto\"] / df[\"Fläche\"]\n",
    "    descr_rents = df[\"sqm_preis\"].describe()\n",
    "\n",
    "    quantiles = df[\"sqm_preis\"].quantile(q=[0.15, 0.5, 0.85])\n",
    "    cheap = quantiles[0.15]\n",
    "    average = quantiles[0.5]\n",
    "    expensive = quantiles[0.85]\n",
    "\n",
    "    df[\"Miete_Kategorie\"] = np.where(\n",
    "        df[\"sqm_preis\"] < cheap,\n",
    "        0,\n",
    "        np.where(\n",
    "            (df[\"sqm_preis\"] >= cheap) & (df[\"sqm_preis\"] < average),\n",
    "            1,\n",
    "            np.where(\n",
    "                (df[\"sqm_preis\"] >= average) & (df[\"sqm_preis\"] < expensive),\n",
    "                2,\n",
    "                3,\n",
    "            ),\n",
    "        ),\n",
    "    )\n",
    "\n",
    "    # Hover strings\n",
    "    df[\"hover_strings_scatter\"] = [\n",
    "        f\"Address: {street}, {place},<br>Rooms: {rooms}, Floor Space: {round(size)}m²,<br>Rent: CHF {rent}\"\n",
    "        for street, place, rooms, size, rent in zip(\n",
    "            df[\"Adresse\"],\n",
    "            df[\"Ort\"],\n",
    "            df[\"Zimmer\"],\n",
    "            df[\"Fläche\"],\n",
    "            df[\"Mietpreis_Brutto\"],\n",
    "        )\n",
    "    ]\n",
    "\n",
    "    return df"
   ]
  },
  {
   "cell_type": "markdown",
   "id": "ddd32b34-9390-4599-b97f-12215337bc0a",
   "metadata": {},
   "source": [
    "<a id='P2' name=\"P2\"></a>\n",
    "## [Data Pre-processing](#P0)\n",
    "\n",
    "This section shows the preparations required to get a clean dataset, which can then be used for advanced visualizations with Plotly."
   ]
  },
  {
   "cell_type": "markdown",
   "id": "78ee6700-ee06-47ca-aaa5-45742941fba3",
   "metadata": {},
   "source": [
    "### Loading the Data"
   ]
  },
  {
   "cell_type": "code",
   "execution_count": null,
   "id": "c631eab4-9090-4141-b504-75c8caa50d57",
   "metadata": {},
   "outputs": [],
   "source": [
    "rents_df = pd.read_csv(f\"{raw_data}/mietinserate_v1.csv\", sep=\";\")\n",
    "rents_df = clean_swiss_rents_data(rents_df)\n",
    "rents_df.head()"
   ]
  },
  {
   "cell_type": "markdown",
   "id": "6b4e65fb-d278-40f5-a0de-acbaa0a9da72",
   "metadata": {},
   "source": [
    "### Converting Coordinates\n",
    "\n",
    "The following script was used to request GPS coordinates from the swisstopo API. They are based on the coordinates ``GKODE`` and ``GKODN`` which are coordinates on a Swiss system (LV95). The loop takes 2-3 hours to complete, so I've commented this code out."
   ]
  },
  {
   "cell_type": "code",
   "execution_count": null,
   "id": "c4855362-772a-4348-bc23-bb8f101f0ae8",
   "metadata": {},
   "outputs": [],
   "source": [
    "\"\"\"\n",
    "long = []\n",
    "lat = []\n",
    "\n",
    "for i in range(len(rents_df)):    \n",
    "    r = requests.get(f'http://geodesy.geo.admin.ch/reframe/lv95towgs84?easting={rents_df.loc[i, \"GKODE\"]}&northing={rents_df.loc[i, \"GKODN\"]}&format=json')\n",
    "    coord_dict = json.loads(r.content)\n",
    "    long.append(coord_dict[\"easting\"])\n",
    "    lat.append(coord_dict[\"northing\"])\n",
    "    \n",
    "rents_df[\"long\"] = long\n",
    "rents_df[\"lat\"] = lat\n",
    "\"\"\""
   ]
  },
  {
   "cell_type": "markdown",
   "id": "3eab8719-dcab-447c-8f66-8567d840e6bf",
   "metadata": {},
   "source": [
    "The coordinates were saved in the file that I'm loading below. I'll just transfer them into the dataframe created before, for the sake of simplicity."
   ]
  },
  {
   "cell_type": "code",
   "execution_count": null,
   "id": "1c8fe7be-7074-442d-ad9d-d7f1787cea0f",
   "metadata": {},
   "outputs": [],
   "source": [
    "df_proc_old = pd.read_csv(f\"{proc_data}/rents_with_coords_clean.csv\")"
   ]
  },
  {
   "cell_type": "markdown",
   "id": "8c74c4ec-dfcc-4b7c-bfbe-9f940c447070",
   "metadata": {},
   "source": [
    "## **Had to correct first line of code below from: rents_df[\"long\"] = df_proc_old[\"long\"] to what is currently there** ##"
   ]
  },
  {
   "cell_type": "code",
   "execution_count": null,
   "id": "1ee4947c-c9ca-4649-8354-134cac0c0d5e",
   "metadata": {},
   "outputs": [],
   "source": [
    "rents_df[\"lon\"] = df_proc_old[\"lon\"]\n",
    "rents_df[\"lat\"] = df_proc_old[\"lat\"]\n",
    "rents_df"
   ]
  },
  {
   "cell_type": "markdown",
   "id": "f51d76dd-bd6c-4ab6-afc9-7a4aa1ea1708",
   "metadata": {},
   "source": [
    "### Handling Missing Values\n",
    "\n",
    "Missing values can create problems when plotting, so they are either filled or removed below. I'm also dropping columns that will not be useful."
   ]
  },
  {
   "cell_type": "code",
   "execution_count": null,
   "id": "e95031e7-c247-410b-a8a2-7ba60de5abd0",
   "metadata": {},
   "outputs": [],
   "source": [
    "cols_to_drop = [\n",
    "    \"ID\",\n",
    "    \"Jahr\",\n",
    "    \"Quartal\",\n",
    "    \"Wohnungstyp\",\n",
    "    \"Quadratmeterpreis_Brutto\",\n",
    "    \"PLZ_Ort\",\n",
    "    \"Bezugsdatum\",\n",
    "    \"GKODE\",\n",
    "    \"GKODN\",\n",
    "    \"KT\",\n",
    "]\n",
    "\n",
    "rents_df.drop(columns=cols_to_drop, inplace=True)\n",
    "rents_df.dropna(inplace=True)\n",
    "print(rents_df.shape)\n",
    "rents_df.head()"
   ]
  },
  {
   "cell_type": "markdown",
   "id": "d5665c35-caee-4ea7-9f29-8af67769dd9a",
   "metadata": {},
   "source": [
    "### Rows with Errors\n",
    "\n",
    "Some rows have errors or inconsistencies, like for example if the place is 'Zürich' but the canton is 'Bern'. We need to remove these."
   ]
  },
  {
   "cell_type": "code",
   "execution_count": null,
   "id": "04aef6ef-4b6c-4a4f-8e27-1d65f89197a0",
   "metadata": {},
   "outputs": [],
   "source": [
    "rents_df.drop(\n",
    "    rents_df[\n",
    "        (rents_df[\"Ort\"] == \"Zürich\") & (rents_df[\"Kanton\"] != \"Zürich\")\n",
    "        | (rents_df[\"Ort\"] == \"Basel\") & (rents_df[\"Kanton\"] != \"Basel-Stadt\")\n",
    "    ].index,\n",
    "    inplace=True,\n",
    ")\n",
    "rents_df.shape"
   ]
  },
  {
   "cell_type": "markdown",
   "id": "5efc1274-7334-4e5d-92b9-87710e82457d",
   "metadata": {},
   "source": [
    "### Adding Features for Plotting"
   ]
  },
  {
   "cell_type": "code",
   "execution_count": null,
   "id": "6acf9d5b-5662-4f96-bf18-7c3096c43613",
   "metadata": {},
   "outputs": [],
   "source": [
    "rents_df = create_new_features(rents_df)\n",
    "rents_df.head()"
   ]
  },
  {
   "cell_type": "code",
   "execution_count": null,
   "id": "997d6568-8c0b-44f0-bcd0-a120e19fbc3f",
   "metadata": {},
   "outputs": [],
   "source": [
    "rents_df[\"Miete_Kategorie\"].value_counts()"
   ]
  },
  {
   "cell_type": "code",
   "execution_count": null,
   "id": "440cd99a-133b-4209-8ced-4d17c7ed21c2",
   "metadata": {},
   "outputs": [],
   "source": [
    "rents_df.sort_values(\"Miete_Kategorie\", inplace=True)\n",
    "rents_df.to_csv(f\"{proc_data}/rents_with_coords_clean.csv\", index=False)"
   ]
  },
  {
   "cell_type": "markdown",
   "id": "a0d090db-9712-40ad-8d7c-70dca34d256c",
   "metadata": {
    "tags": []
   },
   "source": [
    "<a id='P2' name=\"P2\"></a>\n",
    "## [Advanced Visualization](#P0)\n",
    "\n",
    "The goal of this section is to create a couple of different visualizations of this data set that can be used for a Streamlit app. The app should also be able to take some user inputs and visualize the data accordingly"
   ]
  },
  {
   "cell_type": "code",
   "execution_count": null,
   "id": "7dc68b82-1c2e-428d-a308-ccc45d40e400",
   "metadata": {},
   "outputs": [],
   "source": [
    "df_proc = pd.read_csv(f\"{proc_data}/rents_with_coords_clean.csv\")\n",
    "df_proc.head()"
   ]
  },
  {
   "cell_type": "markdown",
   "id": "951e7181-b59b-4d46-a8ec-7e40f279b9c8",
   "metadata": {},
   "source": [
    "<div style=\"background:#EEEDF5;border:0.1cm solid #00BAE5;color:#303030\">\n",
    "    <div style=\"margin: 0.2cm 0.2cm 0.2cm 0.2cm\">\n",
    "        <b style=\"color:#00BAE5\">Note:</b>\n",
    "        This is the processed data file saved from the previous section. It contains GPS coordinates requested from the swisstopo API (columns 'long' and 'lat'). Also, some cleaning operations have already been performed on this data. It is only meant for plotting (not modelling).\n",
    "    </div>\n",
    "</div>"
   ]
  },
  {
   "cell_type": "code",
   "execution_count": null,
   "id": "a48c6f93-11bf-4a0d-baf5-73bcfbfada9a",
   "metadata": {},
   "outputs": [],
   "source": [
    "# Sampling to reduce the size of the data file\n",
    "\n",
    "df_proc_small = df_proc.sample(frac=0.1)\n",
    "df_proc_small.info()"
   ]
  },
  {
   "cell_type": "markdown",
   "id": "637b1540-4886-41fa-8465-1d4e6b874630",
   "metadata": {},
   "source": [
    "It would be nice to plot the canton boundaries, in addition to the apartment locations, so the code below reads in a geojson file containing the required geographical information."
   ]
  },
  {
   "cell_type": "code",
   "execution_count": null,
   "id": "79cd786c-80ef-4b58-b045-76932cae6333",
   "metadata": {},
   "outputs": [],
   "source": [
    "with open(f\"{raw_data}/georef-switzerland-kanton.geojson\") as response:\n",
    "    cantons = json.load(response)\n",
    "\n",
    "cantons[\"features\"][0][\"properties\"]"
   ]
  },
  {
   "cell_type": "markdown",
   "id": "f64ad8c0-30fe-430b-8c16-1da781161932",
   "metadata": {},
   "source": [
    "### Scattermap"
   ]
  },
  {
   "cell_type": "code",
   "execution_count": null,
   "id": "433b9db3-7c23-487b-9524-71511f6cd4bf",
   "metadata": {},
   "outputs": [],
   "source": [
    "def set_up_scattermap():\n",
    "    colors = px.colors.qualitative.Bold\n",
    "\n",
    "    traces = [\n",
    "        \"cheapest\",\n",
    "        \"below average\",\n",
    "        \"above average\",\n",
    "        \"most expensive\",\n",
    "    ]\n",
    "\n",
    "    go_figure = go.Figure()\n",
    "\n",
    "    return colors, traces, go_figure\n",
    "\n",
    "\n",
    "def add_scattermap_traces(df, go_figure, colors, traces):\n",
    "    for cat, df_grouped in df.groupby(\"Miete_Kategorie\"):\n",
    "        go_figure.add_trace(\n",
    "            go.Scattermapbox(\n",
    "                long=df_grouped[\"long\"],\n",
    "                lat=df_grouped[\"lat\"],\n",
    "                mode=\"markers\",\n",
    "                marker=go.scattermapbox.Marker(size=5, color=colors[cat], opacity=0.5),\n",
    "                text=df_grouped[\"hover_strings_scatter\"],\n",
    "                hovertemplate=\"%{text}<extra></extra>\",\n",
    "                name=traces[cat],\n",
    "                legendgroup=str(cat),\n",
    "            )\n",
    "        )\n",
    "    return go_figure\n",
    "\n",
    "\n",
    "def add_scattermap_layout(go_figure, mapbox_token):\n",
    "    go_figure.update_layout(\n",
    "        margin={\"r\": 0, \"t\": 45, \"l\": 0, \"b\": 0},\n",
    "        width=1100,\n",
    "        height=660,\n",
    "        hovermode=\"closest\",\n",
    "        mapbox=dict(\n",
    "            accesstoken=mapbox_token,\n",
    "            bearing=0,\n",
    "            center=go.layout.mapbox.Center(lat=46.8, long=8.3),\n",
    "            pitch=0,\n",
    "            zoom=7,\n",
    "            layers=[{\"source\": cantons, \"type\": \"line\", \"line_width\": 1}],\n",
    "        ),\n",
    "        legend=dict(\n",
    "            orientation=\"h\",\n",
    "            yanchor=\"bottom\",\n",
    "            #   y=0.54,\n",
    "            xanchor=\"center\",\n",
    "            x=0.5,\n",
    "            font_size=16,\n",
    "            itemsizing=\"constant\",\n",
    "        ),\n",
    "        template=\"simple_white\",\n",
    "        title=\"Location of Listed Apartments\",\n",
    "        title_font_size=25,\n",
    "    )\n",
    "    return go_figure\n",
    "\n",
    "\n",
    "def build_scattermap(df, mapbox_token):\n",
    "\n",
    "    colors, traces, go_figure = set_up_scattermap()\n",
    "    go_figure = add_scattermap_traces(df, go_figure, colors, traces)\n",
    "    go_figure = add_scattermap_layout(go_figure, mapbox_token)\n",
    "\n",
    "    return go_figure"
   ]
  },
  {
   "cell_type": "markdown",
   "id": "04c23090-1d1d-4e8b-b1c8-0c6b210b6c0c",
   "metadata": {},
   "source": [
    "## **Need mapbox token** ##"
   ]
  },
  {
   "cell_type": "code",
   "execution_count": null,
   "id": "3393697a-a7b6-4299-9991-2bae9d15cb1b",
   "metadata": {},
   "outputs": [],
   "source": [
    "map_fig = build_scattermap(df_proc_small, mapbox_access_token)\n",
    "\n",
    "map_fig"
   ]
  },
  {
   "cell_type": "markdown",
   "id": "f810f5ce-b73c-4221-ac77-0ec6a138b9e3",
   "metadata": {},
   "source": [
    "### Combining Figures: Scatter plot and bar plot"
   ]
  },
  {
   "cell_type": "code",
   "execution_count": null,
   "id": "e8e4f6ed-2aea-430f-9e11-776f4827ca44",
   "metadata": {},
   "outputs": [],
   "source": [
    "## Functions for the combined plot\n",
    "\n",
    "\n",
    "def set_up_subplots():\n",
    "    colors = px.colors.qualitative.Bold\n",
    "\n",
    "    go_figure = make_subplots(\n",
    "        rows=1,\n",
    "        cols=2,\n",
    "        subplot_titles=(\n",
    "            \"Apartments by Size and Rent\",\n",
    "            \"Apartments per Canton\",\n",
    "        ),\n",
    "        column_widths=[2, 1],\n",
    "    )\n",
    "    return go_figure, colors\n",
    "\n",
    "\n",
    "def add_scatter_traces(df, go_figure, colors):\n",
    "    for cat, df_grouped in df.groupby(\"Miete_Kategorie\"):\n",
    "        go_figure.add_trace(\n",
    "            go.Scatter(\n",
    "                x=df_grouped[\"Fläche\"],\n",
    "                y=df_grouped[\"Mietpreis_Brutto\"],\n",
    "                mode=\"markers\",\n",
    "                marker={\"color\": colors[cat], \"opacity\": 0.5},\n",
    "                text=df_grouped[\"hover_strings_scatter\"],\n",
    "                hovertemplate=\"%{text}<extra></extra>\",\n",
    "                #   name=traces[cat],\n",
    "                legendgroup=str(cat),\n",
    "                showlegend=False,\n",
    "            ),\n",
    "            row=1,\n",
    "            col=1,\n",
    "        )\n",
    "    return go_figure\n",
    "\n",
    "\n",
    "def add_barplot_traces(df, go_figure, colors):\n",
    "    df_grouped = (\n",
    "        df.groupby([\"Kanton\", \"Miete_Kategorie\"])\n",
    "        .size()\n",
    "        .unstack(level=-1)\n",
    "        .fillna(0)\n",
    "        .sort_values(\"Kanton\", ascending=False)\n",
    "        .reset_index()\n",
    "    )\n",
    "    df_grouped[\"Total_Kanton\"] = df_grouped.iloc[:, 1:].sum(axis=1)\n",
    "\n",
    "    for cat in df[\"Miete_Kategorie\"].unique():\n",
    "        hover_strings = [\n",
    "            f\"{round(num_per_canton / total_canton * 100, 2)}%\"\n",
    "            for num_per_canton, total_canton in zip(\n",
    "                df_grouped.loc[:, cat], df_grouped[\"Total_Kanton\"]\n",
    "            )\n",
    "        ]\n",
    "        go_figure.add_trace(\n",
    "            go.Bar(\n",
    "                y=df_grouped[\"Kanton\"],\n",
    "                x=df_grouped.loc[:, cat],\n",
    "                orientation=\"h\",\n",
    "                marker_color=colors[cat],\n",
    "                text=hover_strings,\n",
    "                hovertemplate=\"%{text}<extra></extra>\",\n",
    "                #   name=traces[cat],\n",
    "                legendgroup=str(cat),\n",
    "                showlegend=False,\n",
    "            ),\n",
    "            row=1,\n",
    "            col=2,\n",
    "        )\n",
    "    return go_figure\n",
    "\n",
    "\n",
    "def define_figure_layout(go_figure):\n",
    "    go_figure.update_layout(\n",
    "        margin={\"r\": 0, \"t\": 45, \"l\": 0, \"b\": 0},\n",
    "        width=875,\n",
    "        height=550,\n",
    "        hovermode=\"closest\",\n",
    "        template=\"simple_white\",\n",
    "        barmode=\"stack\",\n",
    "    )\n",
    "    return go_figure\n",
    "\n",
    "\n",
    "def build_combined_figure(df):\n",
    "    go_figure, colors = set_up_subplots()\n",
    "\n",
    "    # Scatter plot\n",
    "    go_figure = add_scatter_traces(df, go_figure, colors)\n",
    "\n",
    "    # Bar plot\n",
    "    go_figure = add_barplot_traces(df, go_figure, colors)\n",
    "\n",
    "    # Subplot title font size\n",
    "    go_figure.layout.annotations[0].update(font_size=25, x=0.17, y=1.01)\n",
    "    go_figure.layout.annotations[1].update(font_size=25, x=0.8, y=1.01)\n",
    "\n",
    "    # Axis Labels\n",
    "    go_figure.update_xaxes(\n",
    "        title={\"text\": \"Floor Space (m²)\", \"font_size\": 16}, row=1, col=1\n",
    "    )\n",
    "    go_figure.update_yaxes(title={\"text\": \"Rent (CHF)\", \"font_size\": 16}, row=1, col=1)\n",
    "\n",
    "    go_figure.update_xaxes(\n",
    "        title={\"text\": \"Number of Listings\", \"font_size\": 16}, row=1, col=2\n",
    "    )\n",
    "\n",
    "    # Layout\n",
    "    go_figure = define_figure_layout(go_figure)\n",
    "\n",
    "    return go_figure"
   ]
  },
  {
   "cell_type": "code",
   "execution_count": null,
   "id": "9a4d4858-c5f8-4d30-b720-ce5fa1739629",
   "metadata": {},
   "outputs": [],
   "source": [
    "joint_fig = build_combined_figure(df=df_proc_small)\n",
    "\n",
    "joint_fig.show()"
   ]
  },
  {
   "cell_type": "markdown",
   "id": "66741e1f-51a5-49b7-8012-077607aacbca",
   "metadata": {},
   "source": [
    "<div style=\"border-top:0.1cm solid #EF475B\"></div>\n",
    "    <strong><a href='#Q0'><div style=\"text-align: right\"> <h3>End of this Notebook.</h3></div></a></strong>"
   ]
  }
 ],
 "metadata": {
  "kernelspec": {
   "display_name": "Python 3 (ipykernel)",
   "language": "python",
   "name": "python3"
  },
  "language_info": {
   "codemirror_mode": {
    "name": "ipython",
    "version": 3
   },
   "file_extension": ".py",
   "mimetype": "text/x-python",
   "name": "python",
   "nbconvert_exporter": "python",
   "pygments_lexer": "ipython3",
   "version": "3.10.4"
  },
  "toc-autonumbering": true
 },
 "nbformat": 4,
 "nbformat_minor": 5
}
